{
 "cells": [
  {
   "cell_type": "markdown",
   "id": "6b5dedfb",
   "metadata": {},
   "source": [
    "### 1) Вы провели эксперимент c упрощением формы заказа в магазине Утконос и получили результаты по метрике конверсий в покупку. Выберите метод оценки и оцените есть ли стат.значимые различия между конверсиями в двух группах при alpha = 5%. Дайте краткие рекомендации команде.  \n",
    "**Результаты:**\n",
    "- Число юзеров в группах , которые заходили на сайт в период эксперимента: n1 = 15550 и n2 = 15550.\n",
    "- Число юзеров в группах , которые совершили хотя бы одну покупку за период эксперимента: n1 = 164 и n2 = 228.\n",
    "- Конверсии : conv1 = 1.05% conv2 = 1.47% ."
   ]
  },
  {
   "cell_type": "markdown",
   "id": "0ea6b950",
   "metadata": {},
   "source": [
    "![решение_калькулятора](test_1.jpg)"
   ]
  },
  {
   "cell_type": "markdown",
   "id": "5871aa15",
   "metadata": {},
   "source": [
    "### Вывод:\n",
    "_**С вероятностью 95% проведенный эксперимент повлиял на увеличение покупок**_"
   ]
  },
  {
   "cell_type": "markdown",
   "id": "8ac5f40b",
   "metadata": {},
   "source": [
    "### 2) Сравниваем метрику конверсия в покупку. Размер выборки - 10000 элементов в каждой группе . Какой статистический критерий тут лучше всего подойдёт и почему ?"
   ]
  },
  {
   "cell_type": "markdown",
   "id": "5662aeaa",
   "metadata": {},
   "source": [
    "_**Поскольку размер выборки 10000 и сравнивается конверсия нужно использовать Z-критерий.**_"
   ]
  },
  {
   "cell_type": "code",
   "execution_count": null,
   "id": "c3f5958d",
   "metadata": {},
   "outputs": [],
   "source": []
  }
 ],
 "metadata": {
  "kernelspec": {
   "display_name": "Python 3 (ipykernel)",
   "language": "python",
   "name": "python3"
  },
  "language_info": {
   "codemirror_mode": {
    "name": "ipython",
    "version": 3
   },
   "file_extension": ".py",
   "mimetype": "text/x-python",
   "name": "python",
   "nbconvert_exporter": "python",
   "pygments_lexer": "ipython3",
   "version": "3.9.13"
  }
 },
 "nbformat": 4,
 "nbformat_minor": 5
}
